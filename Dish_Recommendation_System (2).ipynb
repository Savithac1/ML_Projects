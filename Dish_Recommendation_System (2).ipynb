{
  "nbformat": 4,
  "nbformat_minor": 0,
  "metadata": {
    "colab": {
      "provenance": []
    },
    "kernelspec": {
      "name": "python3",
      "display_name": "Python 3"
    },
    "language_info": {
      "name": "python"
    }
  },
  "cells": [
    {
      "cell_type": "markdown",
      "source": [
        "# FridgeForage - Got Ingredients? We’ve Got Ideas."
      ],
      "metadata": {
        "id": "uxfY1gSMHFlh"
      }
    },
    {
      "cell_type": "markdown",
      "source": [
        "FridgeForage is the machine learning-powered meal planner that helps university students turn whatever ingredients they have into quick, budget-friendly meals—no extra grocery trips needed. Just enter what’s in your fridge, and our smart recipe engine will suggest easy, affordable dishes using what you already own.\n",
        "\n",
        "Unlike other recipe apps, FridgeForage is built for students who need cheap, no-fuss meals with minimal prep and cleanup. Whether you’re working with leftovers, pantry staples, or mystery ingredients, FridgeForage finds a way to make it work.\n",
        "\n",
        "Save money. Waste less. Eat better."
      ],
      "metadata": {
        "id": "AM6XaLkxHKAJ"
      }
    },
    {
      "cell_type": "markdown",
      "source": [
        "# Basic Code - Laying Down Base Idea"
      ],
      "metadata": {
        "id": "pGCiDhjZKHxY"
      }
    },
    {
      "cell_type": "markdown",
      "source": [
        "We use a supervised learning method called k-nearest neighbour (KNN), which essentially classifies new data points by comparing them to the closest data points (neighbors) in a labeled training dataset, essentially predicting the class of a new data point based on the majority class of its \"k\" nearest neighbors.\n",
        "\n",
        "In the context of dish recommendation using KNN, the machine learning model works by finding patterns in a recipe dataset and recommending dishes that are similar to what the user has in their fridge or prefers.\n",
        "\n",
        "Each recipe in your dataset is represented by a set of features, such as ingredients, cooking time, cuisine, dietary restrictions, etc. This can be done in a few ways:\n",
        "\n",
        "*   Ingredient-based: Each recipe is represented by a vector of ingredients (e.g., [1, 0, 1, 0] where \"1\" means the ingredient is present and \"0\" means it’s absent).\n",
        "*   Vectorisation: The ingredients can be converted into a vector using techniques like one-hot encoding or TF-IDF (Term Frequency-Inverse Document Frequency) if you want to account for ingredient importance.\n",
        "\n",
        "When a user inputs the ingredients available in their fridge, those ingredients are represented as a vector in the same way as the recipe dataset (e.g., a vector of ingredients the user has).\n",
        "\n",
        "The KNN algorithm calculates the distance between the user’s fridge ingredients vector and the vectors of all recipes in the dataset. Common distance metrics include Euclidean distance or Cosine similarity. The distance function determines how similar the user's available ingredients are to those in the recipes."
      ],
      "metadata": {
        "id": "WN3VwDmcKjhW"
      }
    },
    {
      "cell_type": "code",
      "execution_count": null,
      "metadata": {
        "colab": {
          "base_uri": "https://localhost:8080/"
        },
        "id": "V2DX95mOF1C1",
        "outputId": "51722330-b10c-4c30-e885-121bb42ce5e4"
      },
      "outputs": [
        {
          "output_type": "stream",
          "name": "stdout",
          "text": [
            "Enter available ingredients (comma separated): egg, soy sauce, rice, milk, chicken\n",
            "You can make: Fried Rice\n"
          ]
        }
      ],
      "source": [
        "import json\n",
        "import pandas as pd\n",
        "from sklearn.feature_extraction.text import TfidfVectorizer\n",
        "from sklearn.neighbors import KNeighborsClassifier\n",
        "\n",
        "dishes = {\n",
        "    \"Pasta\": {\"ingredients\": \"pasta, tomato sauce, cheese, garlic\"},\n",
        "    \"Omelette\": {\"ingredients\": \"eggs, cheese, milk, butter\"},\n",
        "    \"Salad\": {\"ingredients\": \"lettuce, tomato, cucumber, olive oil\"},\n",
        "    \"Sandwich\": {\"ingredients\": \"bread, cheese, ham, butter\"},\n",
        "    \"Fried Rice\": {\"ingredients\": \"rice, egg, soy sauce, vegetables\"}\n",
        "}\n",
        "\n",
        "# Convert data to DataFrame\n",
        "df = pd.DataFrame(dishes).T\n",
        "\n",
        "tfidf = TfidfVectorizer()\n",
        "X = tfidf.fit_transform(df['ingredients'])\n",
        "y = df.index\n",
        "\n",
        "# Train a KNN model\n",
        "model = KNeighborsClassifier(n_neighbors=1)\n",
        "model.fit(X, y)\n",
        "\n",
        "def recommend_dish(available_ingredients):\n",
        "    available_ingredients = [\" \".join(available_ingredients)]\n",
        "    X_input = tfidf.transform(available_ingredients)\n",
        "    prediction = model.predict(X_input)\n",
        "    return f\"You can make: {prediction[0]}\"\n",
        "\n",
        "if __name__ == \"__main__\":\n",
        "    user_ingredients = input(\"Enter available ingredients (comma separated): \").lower().split(\", \")\n",
        "    print(recommend_dish(user_ingredients))"
      ]
    },
    {
      "cell_type": "markdown",
      "source": [
        "# Trying with Larger Dataset"
      ],
      "metadata": {
        "id": "dMDN4Hu5Nv2C"
      }
    },
    {
      "cell_type": "markdown",
      "source": [
        "We use this recipes dataset https://www.kaggle.com/code/paultimothymooney/explore-recipe-nlg-dataset?select=RecipeNLG_dataset.csv to test our idea on real recipes."
      ],
      "metadata": {
        "id": "yn6XScesQpkX"
      }
    },
    {
      "cell_type": "code",
      "source": [
        "!pip install gdown"
      ],
      "metadata": {
        "id": "P1ANgNVdXAvQ",
        "colab": {
          "base_uri": "https://localhost:8080/"
        },
        "outputId": "fce59fbf-08f7-4350-b19a-80e8d8b82169"
      },
      "execution_count": null,
      "outputs": [
        {
          "output_type": "stream",
          "name": "stdout",
          "text": [
            "Requirement already satisfied: gdown in /usr/local/lib/python3.11/dist-packages (5.2.0)\n",
            "Requirement already satisfied: beautifulsoup4 in /usr/local/lib/python3.11/dist-packages (from gdown) (4.13.3)\n",
            "Requirement already satisfied: filelock in /usr/local/lib/python3.11/dist-packages (from gdown) (3.17.0)\n",
            "Requirement already satisfied: requests[socks] in /usr/local/lib/python3.11/dist-packages (from gdown) (2.32.3)\n",
            "Requirement already satisfied: tqdm in /usr/local/lib/python3.11/dist-packages (from gdown) (4.67.1)\n",
            "Requirement already satisfied: soupsieve>1.2 in /usr/local/lib/python3.11/dist-packages (from beautifulsoup4->gdown) (2.6)\n",
            "Requirement already satisfied: typing-extensions>=4.0.0 in /usr/local/lib/python3.11/dist-packages (from beautifulsoup4->gdown) (4.12.2)\n",
            "Requirement already satisfied: charset-normalizer<4,>=2 in /usr/local/lib/python3.11/dist-packages (from requests[socks]->gdown) (3.4.1)\n",
            "Requirement already satisfied: idna<4,>=2.5 in /usr/local/lib/python3.11/dist-packages (from requests[socks]->gdown) (3.10)\n",
            "Requirement already satisfied: urllib3<3,>=1.21.1 in /usr/local/lib/python3.11/dist-packages (from requests[socks]->gdown) (2.3.0)\n",
            "Requirement already satisfied: certifi>=2017.4.17 in /usr/local/lib/python3.11/dist-packages (from requests[socks]->gdown) (2025.1.31)\n",
            "Requirement already satisfied: PySocks!=1.5.7,>=1.5.6 in /usr/local/lib/python3.11/dist-packages (from requests[socks]->gdown) (1.7.1)\n"
          ]
        }
      ]
    },
    {
      "cell_type": "code",
      "source": [
        "# Open file\n",
        "url = 'https://drive.google.com/uc?id=1fdZuadYNRGukySisNqT9kcivU2OREb_P'\n",
        "output = 'RecipeNLG_dataset.csv'\n",
        "\n",
        "# Download the file\n",
        "import gdown\n",
        "gdown.download(url, output, quiet=False)\n",
        "\n",
        "# Load the dataset\n",
        "import pandas as pd\n",
        "df = pd.read_csv(output, engine='python')\n",
        "\n",
        "# Display the first few rows of the dataset to ensure it's loaded\n",
        "df.head()\n"
      ],
      "metadata": {
        "colab": {
          "base_uri": "https://localhost:8080/",
          "height": 400
        },
        "id": "Dk1SocBIP4Qj",
        "outputId": "1114d53a-c111-4e04-83cc-f48489bcafec"
      },
      "execution_count": null,
      "outputs": [
        {
          "output_type": "stream",
          "name": "stderr",
          "text": [
            "Downloading...\n",
            "From (original): https://drive.google.com/uc?id=1fdZuadYNRGukySisNqT9kcivU2OREb_P\n",
            "From (redirected): https://drive.google.com/uc?id=1fdZuadYNRGukySisNqT9kcivU2OREb_P&confirm=t&uuid=da7290b3-11e1-4f8e-874e-264fe9d05e59\n",
            "To: /content/RecipeNLG_dataset.csv\n",
            "100%|██████████| 2.29G/2.29G [00:39<00:00, 57.6MB/s]\n"
          ]
        },
        {
          "output_type": "execute_result",
          "data": {
            "text/plain": [
              "   Unnamed: 0                  title  \\\n",
              "0           0    No-Bake Nut Cookies   \n",
              "1           1  Jewell Ball'S Chicken   \n",
              "2           2            Creamy Corn   \n",
              "3           3          Chicken Funny   \n",
              "4           4   Reeses Cups(Candy)     \n",
              "\n",
              "                                         ingredients  \\\n",
              "0  [\"1 c. firmly packed brown sugar\", \"1/2 c. eva...   \n",
              "1  [\"1 small jar chipped beef, cut up\", \"4 boned ...   \n",
              "2  [\"2 (16 oz.) pkg. frozen corn\", \"1 (8 oz.) pkg...   \n",
              "3  [\"1 large whole chicken\", \"2 (10 1/2 oz.) cans...   \n",
              "4  [\"1 c. peanut butter\", \"3/4 c. graham cracker ...   \n",
              "\n",
              "                                          directions  \\\n",
              "0  [\"In a heavy 2-quart saucepan, mix brown sugar...   \n",
              "1  [\"Place chipped beef on bottom of baking dish....   \n",
              "2  [\"In a slow cooker, combine all ingredients. C...   \n",
              "3  [\"Boil and debone chicken.\", \"Put bite size pi...   \n",
              "4  [\"Combine first four ingredients and press in ...   \n",
              "\n",
              "                                              link    source  \\\n",
              "0   www.cookbooks.com/Recipe-Details.aspx?id=44874  Gathered   \n",
              "1  www.cookbooks.com/Recipe-Details.aspx?id=699419  Gathered   \n",
              "2   www.cookbooks.com/Recipe-Details.aspx?id=10570  Gathered   \n",
              "3  www.cookbooks.com/Recipe-Details.aspx?id=897570  Gathered   \n",
              "4  www.cookbooks.com/Recipe-Details.aspx?id=659239  Gathered   \n",
              "\n",
              "                                                 NER  \n",
              "0  [\"brown sugar\", \"milk\", \"vanilla\", \"nuts\", \"bu...  \n",
              "1  [\"beef\", \"chicken breasts\", \"cream of mushroom...  \n",
              "2  [\"frozen corn\", \"cream cheese\", \"butter\", \"gar...  \n",
              "3  [\"chicken\", \"chicken gravy\", \"cream of mushroo...  \n",
              "4  [\"peanut butter\", \"graham cracker crumbs\", \"bu...  "
            ],
            "text/html": [
              "\n",
              "  <div id=\"df-4ddf97ed-03fb-40fe-b96f-442140e56e9f\" class=\"colab-df-container\">\n",
              "    <div>\n",
              "<style scoped>\n",
              "    .dataframe tbody tr th:only-of-type {\n",
              "        vertical-align: middle;\n",
              "    }\n",
              "\n",
              "    .dataframe tbody tr th {\n",
              "        vertical-align: top;\n",
              "    }\n",
              "\n",
              "    .dataframe thead th {\n",
              "        text-align: right;\n",
              "    }\n",
              "</style>\n",
              "<table border=\"1\" class=\"dataframe\">\n",
              "  <thead>\n",
              "    <tr style=\"text-align: right;\">\n",
              "      <th></th>\n",
              "      <th>Unnamed: 0</th>\n",
              "      <th>title</th>\n",
              "      <th>ingredients</th>\n",
              "      <th>directions</th>\n",
              "      <th>link</th>\n",
              "      <th>source</th>\n",
              "      <th>NER</th>\n",
              "    </tr>\n",
              "  </thead>\n",
              "  <tbody>\n",
              "    <tr>\n",
              "      <th>0</th>\n",
              "      <td>0</td>\n",
              "      <td>No-Bake Nut Cookies</td>\n",
              "      <td>[\"1 c. firmly packed brown sugar\", \"1/2 c. eva...</td>\n",
              "      <td>[\"In a heavy 2-quart saucepan, mix brown sugar...</td>\n",
              "      <td>www.cookbooks.com/Recipe-Details.aspx?id=44874</td>\n",
              "      <td>Gathered</td>\n",
              "      <td>[\"brown sugar\", \"milk\", \"vanilla\", \"nuts\", \"bu...</td>\n",
              "    </tr>\n",
              "    <tr>\n",
              "      <th>1</th>\n",
              "      <td>1</td>\n",
              "      <td>Jewell Ball'S Chicken</td>\n",
              "      <td>[\"1 small jar chipped beef, cut up\", \"4 boned ...</td>\n",
              "      <td>[\"Place chipped beef on bottom of baking dish....</td>\n",
              "      <td>www.cookbooks.com/Recipe-Details.aspx?id=699419</td>\n",
              "      <td>Gathered</td>\n",
              "      <td>[\"beef\", \"chicken breasts\", \"cream of mushroom...</td>\n",
              "    </tr>\n",
              "    <tr>\n",
              "      <th>2</th>\n",
              "      <td>2</td>\n",
              "      <td>Creamy Corn</td>\n",
              "      <td>[\"2 (16 oz.) pkg. frozen corn\", \"1 (8 oz.) pkg...</td>\n",
              "      <td>[\"In a slow cooker, combine all ingredients. C...</td>\n",
              "      <td>www.cookbooks.com/Recipe-Details.aspx?id=10570</td>\n",
              "      <td>Gathered</td>\n",
              "      <td>[\"frozen corn\", \"cream cheese\", \"butter\", \"gar...</td>\n",
              "    </tr>\n",
              "    <tr>\n",
              "      <th>3</th>\n",
              "      <td>3</td>\n",
              "      <td>Chicken Funny</td>\n",
              "      <td>[\"1 large whole chicken\", \"2 (10 1/2 oz.) cans...</td>\n",
              "      <td>[\"Boil and debone chicken.\", \"Put bite size pi...</td>\n",
              "      <td>www.cookbooks.com/Recipe-Details.aspx?id=897570</td>\n",
              "      <td>Gathered</td>\n",
              "      <td>[\"chicken\", \"chicken gravy\", \"cream of mushroo...</td>\n",
              "    </tr>\n",
              "    <tr>\n",
              "      <th>4</th>\n",
              "      <td>4</td>\n",
              "      <td>Reeses Cups(Candy)</td>\n",
              "      <td>[\"1 c. peanut butter\", \"3/4 c. graham cracker ...</td>\n",
              "      <td>[\"Combine first four ingredients and press in ...</td>\n",
              "      <td>www.cookbooks.com/Recipe-Details.aspx?id=659239</td>\n",
              "      <td>Gathered</td>\n",
              "      <td>[\"peanut butter\", \"graham cracker crumbs\", \"bu...</td>\n",
              "    </tr>\n",
              "  </tbody>\n",
              "</table>\n",
              "</div>\n",
              "    <div class=\"colab-df-buttons\">\n",
              "\n",
              "  <div class=\"colab-df-container\">\n",
              "    <button class=\"colab-df-convert\" onclick=\"convertToInteractive('df-4ddf97ed-03fb-40fe-b96f-442140e56e9f')\"\n",
              "            title=\"Convert this dataframe to an interactive table.\"\n",
              "            style=\"display:none;\">\n",
              "\n",
              "  <svg xmlns=\"http://www.w3.org/2000/svg\" height=\"24px\" viewBox=\"0 -960 960 960\">\n",
              "    <path d=\"M120-120v-720h720v720H120Zm60-500h600v-160H180v160Zm220 220h160v-160H400v160Zm0 220h160v-160H400v160ZM180-400h160v-160H180v160Zm440 0h160v-160H620v160ZM180-180h160v-160H180v160Zm440 0h160v-160H620v160Z\"/>\n",
              "  </svg>\n",
              "    </button>\n",
              "\n",
              "  <style>\n",
              "    .colab-df-container {\n",
              "      display:flex;\n",
              "      gap: 12px;\n",
              "    }\n",
              "\n",
              "    .colab-df-convert {\n",
              "      background-color: #E8F0FE;\n",
              "      border: none;\n",
              "      border-radius: 50%;\n",
              "      cursor: pointer;\n",
              "      display: none;\n",
              "      fill: #1967D2;\n",
              "      height: 32px;\n",
              "      padding: 0 0 0 0;\n",
              "      width: 32px;\n",
              "    }\n",
              "\n",
              "    .colab-df-convert:hover {\n",
              "      background-color: #E2EBFA;\n",
              "      box-shadow: 0px 1px 2px rgba(60, 64, 67, 0.3), 0px 1px 3px 1px rgba(60, 64, 67, 0.15);\n",
              "      fill: #174EA6;\n",
              "    }\n",
              "\n",
              "    .colab-df-buttons div {\n",
              "      margin-bottom: 4px;\n",
              "    }\n",
              "\n",
              "    [theme=dark] .colab-df-convert {\n",
              "      background-color: #3B4455;\n",
              "      fill: #D2E3FC;\n",
              "    }\n",
              "\n",
              "    [theme=dark] .colab-df-convert:hover {\n",
              "      background-color: #434B5C;\n",
              "      box-shadow: 0px 1px 3px 1px rgba(0, 0, 0, 0.15);\n",
              "      filter: drop-shadow(0px 1px 2px rgba(0, 0, 0, 0.3));\n",
              "      fill: #FFFFFF;\n",
              "    }\n",
              "  </style>\n",
              "\n",
              "    <script>\n",
              "      const buttonEl =\n",
              "        document.querySelector('#df-4ddf97ed-03fb-40fe-b96f-442140e56e9f button.colab-df-convert');\n",
              "      buttonEl.style.display =\n",
              "        google.colab.kernel.accessAllowed ? 'block' : 'none';\n",
              "\n",
              "      async function convertToInteractive(key) {\n",
              "        const element = document.querySelector('#df-4ddf97ed-03fb-40fe-b96f-442140e56e9f');\n",
              "        const dataTable =\n",
              "          await google.colab.kernel.invokeFunction('convertToInteractive',\n",
              "                                                    [key], {});\n",
              "        if (!dataTable) return;\n",
              "\n",
              "        const docLinkHtml = 'Like what you see? Visit the ' +\n",
              "          '<a target=\"_blank\" href=https://colab.research.google.com/notebooks/data_table.ipynb>data table notebook</a>'\n",
              "          + ' to learn more about interactive tables.';\n",
              "        element.innerHTML = '';\n",
              "        dataTable['output_type'] = 'display_data';\n",
              "        await google.colab.output.renderOutput(dataTable, element);\n",
              "        const docLink = document.createElement('div');\n",
              "        docLink.innerHTML = docLinkHtml;\n",
              "        element.appendChild(docLink);\n",
              "      }\n",
              "    </script>\n",
              "  </div>\n",
              "\n",
              "\n",
              "<div id=\"df-dba8f556-2085-40fa-b0cd-2f112f15fd3e\">\n",
              "  <button class=\"colab-df-quickchart\" onclick=\"quickchart('df-dba8f556-2085-40fa-b0cd-2f112f15fd3e')\"\n",
              "            title=\"Suggest charts\"\n",
              "            style=\"display:none;\">\n",
              "\n",
              "<svg xmlns=\"http://www.w3.org/2000/svg\" height=\"24px\"viewBox=\"0 0 24 24\"\n",
              "     width=\"24px\">\n",
              "    <g>\n",
              "        <path d=\"M19 3H5c-1.1 0-2 .9-2 2v14c0 1.1.9 2 2 2h14c1.1 0 2-.9 2-2V5c0-1.1-.9-2-2-2zM9 17H7v-7h2v7zm4 0h-2V7h2v10zm4 0h-2v-4h2v4z\"/>\n",
              "    </g>\n",
              "</svg>\n",
              "  </button>\n",
              "\n",
              "<style>\n",
              "  .colab-df-quickchart {\n",
              "      --bg-color: #E8F0FE;\n",
              "      --fill-color: #1967D2;\n",
              "      --hover-bg-color: #E2EBFA;\n",
              "      --hover-fill-color: #174EA6;\n",
              "      --disabled-fill-color: #AAA;\n",
              "      --disabled-bg-color: #DDD;\n",
              "  }\n",
              "\n",
              "  [theme=dark] .colab-df-quickchart {\n",
              "      --bg-color: #3B4455;\n",
              "      --fill-color: #D2E3FC;\n",
              "      --hover-bg-color: #434B5C;\n",
              "      --hover-fill-color: #FFFFFF;\n",
              "      --disabled-bg-color: #3B4455;\n",
              "      --disabled-fill-color: #666;\n",
              "  }\n",
              "\n",
              "  .colab-df-quickchart {\n",
              "    background-color: var(--bg-color);\n",
              "    border: none;\n",
              "    border-radius: 50%;\n",
              "    cursor: pointer;\n",
              "    display: none;\n",
              "    fill: var(--fill-color);\n",
              "    height: 32px;\n",
              "    padding: 0;\n",
              "    width: 32px;\n",
              "  }\n",
              "\n",
              "  .colab-df-quickchart:hover {\n",
              "    background-color: var(--hover-bg-color);\n",
              "    box-shadow: 0 1px 2px rgba(60, 64, 67, 0.3), 0 1px 3px 1px rgba(60, 64, 67, 0.15);\n",
              "    fill: var(--button-hover-fill-color);\n",
              "  }\n",
              "\n",
              "  .colab-df-quickchart-complete:disabled,\n",
              "  .colab-df-quickchart-complete:disabled:hover {\n",
              "    background-color: var(--disabled-bg-color);\n",
              "    fill: var(--disabled-fill-color);\n",
              "    box-shadow: none;\n",
              "  }\n",
              "\n",
              "  .colab-df-spinner {\n",
              "    border: 2px solid var(--fill-color);\n",
              "    border-color: transparent;\n",
              "    border-bottom-color: var(--fill-color);\n",
              "    animation:\n",
              "      spin 1s steps(1) infinite;\n",
              "  }\n",
              "\n",
              "  @keyframes spin {\n",
              "    0% {\n",
              "      border-color: transparent;\n",
              "      border-bottom-color: var(--fill-color);\n",
              "      border-left-color: var(--fill-color);\n",
              "    }\n",
              "    20% {\n",
              "      border-color: transparent;\n",
              "      border-left-color: var(--fill-color);\n",
              "      border-top-color: var(--fill-color);\n",
              "    }\n",
              "    30% {\n",
              "      border-color: transparent;\n",
              "      border-left-color: var(--fill-color);\n",
              "      border-top-color: var(--fill-color);\n",
              "      border-right-color: var(--fill-color);\n",
              "    }\n",
              "    40% {\n",
              "      border-color: transparent;\n",
              "      border-right-color: var(--fill-color);\n",
              "      border-top-color: var(--fill-color);\n",
              "    }\n",
              "    60% {\n",
              "      border-color: transparent;\n",
              "      border-right-color: var(--fill-color);\n",
              "    }\n",
              "    80% {\n",
              "      border-color: transparent;\n",
              "      border-right-color: var(--fill-color);\n",
              "      border-bottom-color: var(--fill-color);\n",
              "    }\n",
              "    90% {\n",
              "      border-color: transparent;\n",
              "      border-bottom-color: var(--fill-color);\n",
              "    }\n",
              "  }\n",
              "</style>\n",
              "\n",
              "  <script>\n",
              "    async function quickchart(key) {\n",
              "      const quickchartButtonEl =\n",
              "        document.querySelector('#' + key + ' button');\n",
              "      quickchartButtonEl.disabled = true;  // To prevent multiple clicks.\n",
              "      quickchartButtonEl.classList.add('colab-df-spinner');\n",
              "      try {\n",
              "        const charts = await google.colab.kernel.invokeFunction(\n",
              "            'suggestCharts', [key], {});\n",
              "      } catch (error) {\n",
              "        console.error('Error during call to suggestCharts:', error);\n",
              "      }\n",
              "      quickchartButtonEl.classList.remove('colab-df-spinner');\n",
              "      quickchartButtonEl.classList.add('colab-df-quickchart-complete');\n",
              "    }\n",
              "    (() => {\n",
              "      let quickchartButtonEl =\n",
              "        document.querySelector('#df-dba8f556-2085-40fa-b0cd-2f112f15fd3e button');\n",
              "      quickchartButtonEl.style.display =\n",
              "        google.colab.kernel.accessAllowed ? 'block' : 'none';\n",
              "    })();\n",
              "  </script>\n",
              "</div>\n",
              "\n",
              "    </div>\n",
              "  </div>\n"
            ],
            "application/vnd.google.colaboratory.intrinsic+json": {
              "type": "dataframe",
              "variable_name": "df"
            }
          },
          "metadata": {},
          "execution_count": 71
        }
      ]
    },
    {
      "cell_type": "markdown",
      "source": [
        "For now, we use the NER column, which lists the ingredients for us in a clean manner. We first filter out any unecessary data columns and take a random sample of 10,000 observations, since the dataset it quite large (it took over 2.5 hours and still could not run the KNN code).\n"
      ],
      "metadata": {
        "id": "mEnMS-6vUoWt"
      }
    },
    {
      "cell_type": "code",
      "source": [
        "# Select only relevant columns\n",
        "df_filtered = df[['NER', 'title', 'directions']]\n",
        "\n",
        "# Drop rows with missing values in these columns\n",
        "df_filtered = df_filtered.dropna(subset=['NER', 'title', 'directions'])\n",
        "\n",
        "# Sample 10,000 random rows for training\n",
        "df_sampled = df_filtered.sample(n=10000, random_state=42)"
      ],
      "metadata": {
        "id": "ehzpqYXvReUu"
      },
      "execution_count": null,
      "outputs": []
    },
    {
      "cell_type": "code",
      "source": [
        "import pandas as pd\n",
        "import numpy as np\n",
        "from sklearn.feature_extraction.text import TfidfVectorizer\n",
        "from sklearn.neighbors import NearestNeighbors\n",
        "\n",
        "# Convert the list of ingredients in 'NER' into a string format\n",
        "df_sampled['NER'] = df_sampled['NER'].apply(lambda x: ', '.join(x) if isinstance(x, list) else str(x))\n",
        "\n",
        "# Initialise TF-IDF Vectorizer\n",
        "tfidf = TfidfVectorizer()\n",
        "X = tfidf.fit_transform(df_sampled['NER'])  # Features: ingredient lists\n",
        "\n",
        "# Train a Nearest Neighbors model (alternative to KNNClassifier)\n",
        "knn = NearestNeighbors(n_neighbors=3, metric='cosine')  # 3 nearest neighbors\n",
        "knn.fit(X)\n",
        "\n",
        "# Create mappings for recipe details\n",
        "recipe_ingredients = dict(zip(df_sampled['title'], df_sampled['NER']))\n",
        "recipe_directions = dict(zip(df_sampled['title'], df_sampled['directions']))\n",
        "\n",
        "# Function to predict multiple recipes and retrieve details\n",
        "def recommend_recipes(ingredients_list, num_recommendations=3):\n",
        "    input_ingredients = ', '.join(ingredients_list)  # Convert list to string\n",
        "    input_vector = tfidf.transform([input_ingredients])  # Transform input into TF-IDF vector\n",
        "\n",
        "    distances, indices = knn.kneighbors(input_vector)  # Find nearest recipes\n",
        "\n",
        "    recommendations = []\n",
        "    for idx in indices[0]:  # Loop through top recommendations\n",
        "        recipe_name = df_sampled.iloc[idx]['title']\n",
        "        recipe_ingredients_list = recipe_ingredients.get(recipe_name, \"No ingredients available.\")\n",
        "        recipe_steps = recipe_directions.get(recipe_name, \"No directions available.\")\n",
        "        recommendations.append((recipe_name, recipe_ingredients_list, recipe_steps))\n",
        "\n",
        "    return recommendations\n",
        "\n",
        "# Example usage\n",
        "user_ingredients = [\"chicken\", \"butter\", \"garlic\", \"rice\", \"egg\", \"onion\", \"beef\"]\n",
        "recommended_recipes = recommend_recipes(user_ingredients, num_recommendations=3)\n",
        "\n",
        "# Print results\n",
        "for i, (recipe, ingredients, steps) in enumerate(recommended_recipes, 1):\n",
        "    print(f\"Recommendation {i}: {recipe}\")\n",
        "    print(f\"Ingredients: {ingredients}\")\n",
        "    print(f\"How to Cook:\\n{steps}\\n\")"
      ],
      "metadata": {
        "colab": {
          "base_uri": "https://localhost:8080/"
        },
        "id": "Ny3uhxmQtLw-",
        "outputId": "d0848d78-45da-4f39-f224-a2b3bc4751de"
      },
      "execution_count": null,
      "outputs": [
        {
          "output_type": "stream",
          "name": "stdout",
          "text": [
            "Recommendation 1: Hamburger Stroganoff - Delicious\n",
            "Ingredients: [\"onion\", \"garlic\", \"butter\", \"ground beef\", \"salt\", \"pepper\", \"mushrooms\", \"cream of chicken soup\", \"rice\"]\n",
            "How to Cook:\n",
            "[\"Saute onion and garlic in butter over medium heat.\", \"Stir in ground beef and brown.\", \"Stir in flour, salt, and pepper -- let cook for about 3 minutes, stir in mushrooms.\", \"Cook 5 minutes.\", \"Stir in soup.\", \"Simmer uncovered 10 minutes.\", \"Stir in sour cream and heat through (don't allow it to come to a boil).\", \"Serve in a ring of rice, or buttered noodles.\"]\n",
            "\n",
            "Recommendation 2: Kyra'S Mild Or Hot Chicken\n",
            "Ingredients: [\"chicken\", \"salt\", \"onion\", \"garlic\"]\n",
            "How to Cook:\n",
            "[\"Preheat oven to 350\\u00b0.\", \"Set the 12 pieces of chicken on a greased pan.\", \"Shake on the seasoning salt, granulated onion and granulated garlic.\", \"The more you add, the spicier it tastes.\", \"Put it in the oven and bake for one hour or until slightly browned and it doesn't bleed.\", \"Turn off the oven and let cool 5 to 10 minutes. Then serve and enjoy.\"]\n",
            "\n",
            "Recommendation 3: Spanish Rice Using Tomato Sauce\n",
            "Ingredients: [\"rice\", \"chicken broth\", \"tomato sauce\", \"garlic\", \"onion\", \"oil\"]\n",
            "How to Cook:\n",
            "[\"In medium saucepan, heat oil over medium heat. Add in garlic and onion. Saute 1-2 minutes until softened.\", \"Add in dry rice. While stirring, cook for about 5 minutes until rice is golden brown.\", \"Slowly add in broth and tomato sauce into rice, not directly onto hot pan. Stir; bring to boil.\", \"Turn heat to low and cover. Let simmer for 20 minutes.\", \"Fluff with fork.\"]\n",
            "\n"
          ]
        }
      ]
    },
    {
      "cell_type": "markdown",
      "source": [
        "The new version returns three recipes that best match the provided list of ingredients, along with instructions on how to cook it."
      ],
      "metadata": {
        "id": "t57LcHJUVBvS"
      }
    },
    {
      "cell_type": "markdown",
      "source": [
        "# Limitations"
      ],
      "metadata": {
        "id": "IDxHkhe1fm-w"
      }
    },
    {
      "cell_type": "markdown",
      "source": [
        "\n",
        "*   Algorithm does not take into account how much of each ingredient the user has and is needed for each recipe\n",
        "*   The algorithm/dataset does not differentiate between main and supporting ingredients. As a result, it may recommend a dish where the user does not have the primary ingredient, but the user has most the optional or supporting ingredients.\n",
        "*   Dataset does not take into account cooking/prepping time/cuisine\n",
        "*   Dataset does not have very basic recipes so currently our model cannot recommend more basic dishes that may be easier for users to make\n",
        "\n",
        "\n",
        "\n"
      ],
      "metadata": {
        "id": "s7nIsx5ifr4x"
      }
    },
    {
      "cell_type": "markdown",
      "source": [
        ""
      ],
      "metadata": {
        "id": "GMZkCJHWlIv3"
      }
    },
    {
      "cell_type": "markdown",
      "source": [

      ],
      "metadata": {
        "id": "rw71kBwMlMNX"
      }
    }
  ]
}
